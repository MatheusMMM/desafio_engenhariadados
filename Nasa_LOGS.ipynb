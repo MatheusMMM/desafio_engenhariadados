{
 "cells": [
  {
   "cell_type": "code",
   "execution_count": 18,
   "metadata": {},
   "outputs": [],
   "source": [
    "# Biblioteca\n",
    "from pyspark import SparkContext\n",
    "from pyspark.sql import functions as F"
   ]
  },
  {
   "cell_type": "code",
   "execution_count": 4,
   "metadata": {},
   "outputs": [],
   "source": [
    "# Conexão SPARK\n",
    "sc = SparkContext('local','pyspark')\n",
    "sqlContext = SQLContext(sc)"
   ]
  },
  {
   "cell_type": "code",
   "execution_count": 10,
   "metadata": {},
   "outputs": [
    {
     "name": "stdout",
     "output_type": "stream",
     "text": [
      "+---+-----------+---------+------+--------------------+--------+-----+\n",
      "|_c0|       host|     time|method|                 url|response|bytes|\n",
      "+---+-----------+---------+------+--------------------+--------+-----+\n",
      "|  0|***.novo.dk|805465029|   GET|           /ksc.html|     200| 7067|\n",
      "|  1|***.novo.dk|805465031|   GET|/images/ksclogo-m...|     200| 5866|\n",
      "|  2|***.novo.dk|805465051|   GET|/images/MOSAIC-lo...|     200|  363|\n",
      "|  3|***.novo.dk|805465053|   GET|/images/USA-logos...|     200|  234|\n",
      "|  4|***.novo.dk|805465054|   GET|/images/NASA-logo...|     200|  786|\n",
      "|  5|***.novo.dk|805465058|   GET|/images/WORLD-log...|     200|  669|\n",
      "|  6|***.novo.dk|805465068|   GET|/shuttle/missions...|     200| 8678|\n",
      "|  7|***.novo.dk|805465071|   GET|/images/launchmed...|     200|11853|\n",
      "|  8|***.novo.dk|805465153|   GET|/images/KSC-logos...|     200| 1204|\n",
      "|  9|***.novo.dk|805465157|   GET|/images/NASA-logo...|     200|  786|\n",
      "| 10|***.novo.dk|805465323|   GET|/images/launch-lo...|     200| 1713|\n",
      "| 11|***.novo.dk|805465328|   GET|/history/apollo/i...|     200| 1173|\n",
      "| 12|***.novo.dk|805465381|   GET|/shuttle/resource...|     200| 6922|\n",
      "| 13|***.novo.dk|807951768|   GET|/shuttle/missions...|     200|11264|\n",
      "| 14|***.novo.dk|807951775|   GET|/shuttle/missions...|     200| 8083|\n",
      "| 15|***.novo.dk|807951782|   GET|/images/KSC-logos...|     200| 1204|\n",
      "| 16|***.novo.dk|807951786|   GET|/images/launch-lo...|     200| 1713|\n",
      "| 17|***.novo.dk|807951792|   GET|/history/apollo/i...|     200| 1173|\n",
      "| 18|***.novo.dk|807951832|   GET| /shuttle/countdown/|     200| 4673|\n",
      "| 19|***.novo.dk|807951848|   GET|/shuttle/missions...|     200|46053|\n",
      "+---+-----------+---------+------+--------------------+--------+-----+\n",
      "only showing top 20 rows\n",
      "\n"
     ]
    }
   ],
   "source": [
    "# Leitura DataSet\n",
    "df = sqlContext.read.format('com.databricks.spark.csv').options(header='true').load('log_1995_nasa.csv')\n",
    "df.show()\n"
   ]
  },
  {
   "cell_type": "code",
   "execution_count": 15,
   "metadata": {},
   "outputs": [
    {
     "data": {
      "text/plain": [
       "135268"
      ]
     },
     "execution_count": 15,
     "metadata": {},
     "output_type": "execute_result"
    }
   ],
   "source": [
    "# Hosts Únicos\n",
    "df.select('host').distinct().count()"
   ]
  },
  {
   "cell_type": "code",
   "execution_count": 21,
   "metadata": {},
   "outputs": [
    {
     "data": {
      "text/plain": [
       "[Row(sum(bytes)=43159977733.0)]"
      ]
     },
     "execution_count": 21,
     "metadata": {},
     "output_type": "execute_result"
    }
   ],
   "source": [
    "# Total de Bytes Retornados\n",
    "total = df.groupBy().agg(F.sum('bytes')).collect()\n",
    "total"
   ]
  }
 ],
 "metadata": {
  "kernelspec": {
   "display_name": "Python 3",
   "language": "python",
   "name": "python3"
  },
  "language_info": {
   "codemirror_mode": {
    "name": "ipython",
    "version": 3
   },
   "file_extension": ".py",
   "mimetype": "text/x-python",
   "name": "python",
   "nbconvert_exporter": "python",
   "pygments_lexer": "ipython3",
   "version": "3.7.3"
  }
 },
 "nbformat": 4,
 "nbformat_minor": 2
}
